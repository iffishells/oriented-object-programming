{
  "nbformat": 4,
  "nbformat_minor": 0,
  "metadata": {
    "colab": {
      "name": "Composition_and_ Aggregation .ipynb",
      "private_outputs": true,
      "provenance": [],
      "collapsed_sections": [],
      "authorship_tag": "ABX9TyM1ACd4PHQPdthde6WRFvOm",
      "include_colab_link": true
    },
    "kernelspec": {
      "name": "python3",
      "display_name": "Python 3"
    },
    "language_info": {
      "name": "python"
    }
  },
  "cells": [
    {
      "cell_type": "markdown",
      "metadata": {
        "id": "view-in-github",
        "colab_type": "text"
      },
      "source": [
        "<a href=\"https://colab.research.google.com/github/iffishells/oriented-object-programming/blob/master/Composition_and__Aggregation_.ipynb\" target=\"_parent\"><img src=\"https://colab.research.google.com/assets/colab-badge.svg\" alt=\"Open In Colab\"/></a>"
      ]
    },
    {
      "cell_type": "markdown",
      "metadata": {
        "id": "HCz4wvc24FQl"
      },
      "source": [
        "# *Composition*\n",
        "\n",
        "---\n",
        "Compositon has \"part of relationship\" .look at the code if we remove one of them then both the classes will not work becuase they are dependent to each other.**Composition has a strong relationship**\n"
      ]
    },
    {
      "cell_type": "code",
      "metadata": {
        "id": "teMfoSvZ33hr"
      },
      "source": [
        "class Salary:\n",
        "\n",
        "    def __init__(self,pay,bouns):\n",
        "\n",
        "        self.pay = pay\n",
        "        self.bouns = bouns\n",
        "\n",
        "    def annual_salary(self):\n",
        "        return self.pay+self.bonus+1000\n",
        "\n",
        "class Employee:\n",
        "\n",
        "    def __init__(self,name,age,pay,bonus):\n",
        "\n",
        "        self.name = name\n",
        "        self.age = age\n",
        "        self.obj_salary = Salary(pay,bonus)  ## main concept\n",
        "\n",
        "emp = Employee(\"Iftikhar\",23 , 1000,100)\n",
        "\n"
      ],
      "execution_count": null,
      "outputs": []
    },
    {
      "cell_type": "markdown",
      "metadata": {
        "id": "DnphwFEG5lVP"
      },
      "source": [
        "# **Aggregation**\n",
        "\n",
        "---\n",
        "Now look at the code we are passing the instance to the employee class of the salary class. they are ***independently exist***.***Has a relation in Aggregation***\n",
        "\n"
      ]
    },
    {
      "cell_type": "code",
      "metadata": {
        "id": "9Zc_xu3h4bfA"
      },
      "source": [
        "class Salary:\n",
        "\n",
        "    def __init__(self,pay,bouns):\n",
        "\n",
        "        self.pay = pay\n",
        "        self.bouns = bouns\n",
        "\n",
        "    def annual_salary(self):\n",
        "        return self.pay+self.bonus+1000\n",
        "\n",
        "class Employee:\n",
        "\n",
        "    def __init__(self,name,age,salary):\n",
        "\n",
        "        self.name = name\n",
        "        self.age = age\n",
        "        self.obj_salary = salary  ## main concept\n",
        "salary = Salary(1000,100)\n",
        "emp = Employee(\"Iftikhar\",23 , salary)\n",
        "\n"
      ],
      "execution_count": null,
      "outputs": []
    },
    {
      "cell_type": "code",
      "metadata": {
        "id": "qNMM4l3l6VVF"
      },
      "source": [
        ""
      ],
      "execution_count": null,
      "outputs": []
    }
  ]
}